{
 "cells": [
  {
   "cell_type": "code",
   "execution_count": 48,
   "metadata": {},
   "outputs": [],
   "source": [
    "import pandas as pd\n",
    "import numpy as np\n",
    "import datetime"
   ]
  },
  {
   "cell_type": "code",
   "execution_count": 49,
   "metadata": {},
   "outputs": [],
   "source": [
    "tripdata_months = {'202005','202006','202007'}"
   ]
  },
  {
   "cell_type": "code",
   "execution_count": 50,
   "metadata": {
    "tags": []
   },
   "outputs": [],
   "source": [
    "for month in tripdata_months:\n",
    "    # read in csv file\n",
    "    csv_data = f\"data/{month}-citibike-tripdata.csv\"\n",
    "    df = pd.read_csv(csv_data)\n",
    "    \n",
    "    # split start time and start day into separate columns\n",
    "    split1 = df[\"starttime\"].str.rsplit(\" \", n = 1, expand = True)\n",
    "    df[\"startday\"] = split1[0]\n",
    "    df[\"starttime\"] = split1[1]\n",
    "\n",
    "    split2 = df[\"starttime\"].str.rsplit(\".\", n = 1, expand = True)\n",
    "    df[\"starttime\"] = split2[0]\n",
    "    \n",
    "    # remove unknown gender\n",
    "    df = df[df.gender!=0]\n",
    "    \n",
    "    # output to csv file\n",
    "    df.to_csv(f\"data/cleaned_{month}-citibike-tripdata.csv\")"
   ]
  },
  {
   "cell_type": "code",
   "execution_count": 51,
   "metadata": {
    "tags": []
   },
   "outputs": [],
   "source": [
    "# create an empty dataframe object\n",
    "final_df = pd.DataFrame()\n",
    "\n",
    "for month in tripdata_months:\n",
    "        # read in cleaned csv file\n",
    "        csv_data = f\"data/cleaned_{month}-citibike-tripdata.csv\"\n",
    "        df = pd.read_csv(csv_data)\n",
    "\n",
    "        # concatenate/append datasets\n",
    "        final_df = pd.concat([final_df,df], ignore_index=True)"
   ]
  },
  {
   "cell_type": "code",
   "execution_count": 52,
   "metadata": {
    "tags": []
   },
   "outputs": [],
   "source": [
    "# get the current year\n",
    "d = datetime.datetime.today()\n",
    "current_year = d.strftime('%Y')"
   ]
  },
  {
   "cell_type": "code",
   "execution_count": 53,
   "metadata": {},
   "outputs": [
    {
     "output_type": "execute_result",
     "data": {
      "text/plain": "   Unnamed: 0  tripduration starttime                  stoptime  \\\n0           0           336  00:01:06  2020-05-01 00:06:42.9560   \n1           1           853  00:01:08  2020-05-01 00:15:21.2150   \n2           2            78  00:01:08  2020-05-01 00:02:27.0490   \n3           3          1185  00:02:22  2020-05-01 00:22:08.1220   \n4           4           272  00:02:32  2020-05-01 00:07:05.0880   \n\n   start station id                  start station name  \\\n0              2017                     E 43 St & 2 Ave   \n1              3376                     E 65 St & 2 Ave   \n2               396          Lefferts Pl & Franklin Ave   \n3              3630  Frederick Douglass Blvd & W 115 St   \n4              3776          Central Ave & Starr Street   \n\n   start station latitude  start station longitude  end station id  \\\n0               40.750224               -73.971214             465   \n1               40.764719               -73.962221             478   \n2               40.680342               -73.955769            3789   \n3               40.803865               -73.955931            3506   \n4               40.700003               -73.928340            3068   \n\n           end station name  end station latitude  end station longitude  \\\n0        Broadway & W 41 St             40.755136             -73.986580   \n1          11 Ave & W 41 St             40.760301             -73.998842   \n2     Fulton St & Irving Pl             40.681860             -73.959432   \n3  Lexington Ave & E 120 St             40.801307             -73.939817   \n4    Humboldt St & Varet St             40.703172             -73.940636   \n\n   bikeid    usertype  birth year  gender    startday  age  \n0   18015  Subscriber        1993       1  2020-05-01   27  \n1   35905  Subscriber        1989       1  2020-05-01   31  \n2   33350  Subscriber        1938       2  2020-05-01   82  \n3   43790  Subscriber        1996       1  2020-05-01   24  \n4   39912  Subscriber        1993       1  2020-05-01   27  ",
      "text/html": "<div>\n<style scoped>\n    .dataframe tbody tr th:only-of-type {\n        vertical-align: middle;\n    }\n\n    .dataframe tbody tr th {\n        vertical-align: top;\n    }\n\n    .dataframe thead th {\n        text-align: right;\n    }\n</style>\n<table border=\"1\" class=\"dataframe\">\n  <thead>\n    <tr style=\"text-align: right;\">\n      <th></th>\n      <th>Unnamed: 0</th>\n      <th>tripduration</th>\n      <th>starttime</th>\n      <th>stoptime</th>\n      <th>start station id</th>\n      <th>start station name</th>\n      <th>start station latitude</th>\n      <th>start station longitude</th>\n      <th>end station id</th>\n      <th>end station name</th>\n      <th>end station latitude</th>\n      <th>end station longitude</th>\n      <th>bikeid</th>\n      <th>usertype</th>\n      <th>birth year</th>\n      <th>gender</th>\n      <th>startday</th>\n      <th>age</th>\n    </tr>\n  </thead>\n  <tbody>\n    <tr>\n      <td>0</td>\n      <td>0</td>\n      <td>336</td>\n      <td>00:01:06</td>\n      <td>2020-05-01 00:06:42.9560</td>\n      <td>2017</td>\n      <td>E 43 St &amp; 2 Ave</td>\n      <td>40.750224</td>\n      <td>-73.971214</td>\n      <td>465</td>\n      <td>Broadway &amp; W 41 St</td>\n      <td>40.755136</td>\n      <td>-73.986580</td>\n      <td>18015</td>\n      <td>Subscriber</td>\n      <td>1993</td>\n      <td>1</td>\n      <td>2020-05-01</td>\n      <td>27</td>\n    </tr>\n    <tr>\n      <td>1</td>\n      <td>1</td>\n      <td>853</td>\n      <td>00:01:08</td>\n      <td>2020-05-01 00:15:21.2150</td>\n      <td>3376</td>\n      <td>E 65 St &amp; 2 Ave</td>\n      <td>40.764719</td>\n      <td>-73.962221</td>\n      <td>478</td>\n      <td>11 Ave &amp; W 41 St</td>\n      <td>40.760301</td>\n      <td>-73.998842</td>\n      <td>35905</td>\n      <td>Subscriber</td>\n      <td>1989</td>\n      <td>1</td>\n      <td>2020-05-01</td>\n      <td>31</td>\n    </tr>\n    <tr>\n      <td>2</td>\n      <td>2</td>\n      <td>78</td>\n      <td>00:01:08</td>\n      <td>2020-05-01 00:02:27.0490</td>\n      <td>396</td>\n      <td>Lefferts Pl &amp; Franklin Ave</td>\n      <td>40.680342</td>\n      <td>-73.955769</td>\n      <td>3789</td>\n      <td>Fulton St &amp; Irving Pl</td>\n      <td>40.681860</td>\n      <td>-73.959432</td>\n      <td>33350</td>\n      <td>Subscriber</td>\n      <td>1938</td>\n      <td>2</td>\n      <td>2020-05-01</td>\n      <td>82</td>\n    </tr>\n    <tr>\n      <td>3</td>\n      <td>3</td>\n      <td>1185</td>\n      <td>00:02:22</td>\n      <td>2020-05-01 00:22:08.1220</td>\n      <td>3630</td>\n      <td>Frederick Douglass Blvd &amp; W 115 St</td>\n      <td>40.803865</td>\n      <td>-73.955931</td>\n      <td>3506</td>\n      <td>Lexington Ave &amp; E 120 St</td>\n      <td>40.801307</td>\n      <td>-73.939817</td>\n      <td>43790</td>\n      <td>Subscriber</td>\n      <td>1996</td>\n      <td>1</td>\n      <td>2020-05-01</td>\n      <td>24</td>\n    </tr>\n    <tr>\n      <td>4</td>\n      <td>4</td>\n      <td>272</td>\n      <td>00:02:32</td>\n      <td>2020-05-01 00:07:05.0880</td>\n      <td>3776</td>\n      <td>Central Ave &amp; Starr Street</td>\n      <td>40.700003</td>\n      <td>-73.928340</td>\n      <td>3068</td>\n      <td>Humboldt St &amp; Varet St</td>\n      <td>40.703172</td>\n      <td>-73.940636</td>\n      <td>39912</td>\n      <td>Subscriber</td>\n      <td>1993</td>\n      <td>1</td>\n      <td>2020-05-01</td>\n      <td>27</td>\n    </tr>\n  </tbody>\n</table>\n</div>"
     },
     "metadata": {},
     "execution_count": 53
    }
   ],
   "source": [
    "# add age column\n",
    "final_df[\"age\"] = int(current_year) - final_df[\"birth year\"]\n",
    "final_df.head(5)"
   ]
  },
  {
   "cell_type": "code",
   "execution_count": 54,
   "metadata": {},
   "outputs": [],
   "source": [
    "# remove Unnamed: 0 column\n",
    "final_df.rename({\"Unnamed: 0\":\"temp\"}, axis=\"columns\", inplace=True)    \n",
    "final_df.drop([\"temp\"], axis=1, inplace=True)"
   ]
  },
  {
   "cell_type": "code",
   "execution_count": 55,
   "metadata": {},
   "outputs": [],
   "source": [
    "# drop null values\n",
    "final_df = final_df.dropna()"
   ]
  },
  {
   "cell_type": "code",
   "execution_count": 56,
   "metadata": {},
   "outputs": [],
   "source": [
    "# reassign gender numerical value to male or female\n",
    "final_df = final_df.replace({'gender': 1}, {'gender': 'Male'}, regex=True)\n",
    "final_df = final_df.replace({'gender': 2}, {'gender': 'Female'},regex=True)"
   ]
  },
  {
   "cell_type": "code",
   "execution_count": 57,
   "metadata": {},
   "outputs": [
    {
     "output_type": "execute_result",
     "data": {
      "text/plain": "   tripduration starttime                  stoptime  start station id  \\\n0           336  00:01:06  2020-05-01 00:06:42.9560              2017   \n1           853  00:01:08  2020-05-01 00:15:21.2150              3376   \n2            78  00:01:08  2020-05-01 00:02:27.0490               396   \n3          1185  00:02:22  2020-05-01 00:22:08.1220              3630   \n4           272  00:02:32  2020-05-01 00:07:05.0880              3776   \n\n                   start station name  start station latitude  \\\n0                     E 43 St & 2 Ave               40.750224   \n1                     E 65 St & 2 Ave               40.764719   \n2          Lefferts Pl & Franklin Ave               40.680342   \n3  Frederick Douglass Blvd & W 115 St               40.803865   \n4          Central Ave & Starr Street               40.700003   \n\n   start station longitude  end station id          end station name  \\\n0               -73.971214             465        Broadway & W 41 St   \n1               -73.962221             478          11 Ave & W 41 St   \n2               -73.955769            3789     Fulton St & Irving Pl   \n3               -73.955931            3506  Lexington Ave & E 120 St   \n4               -73.928340            3068    Humboldt St & Varet St   \n\n   end station latitude  end station longitude  bikeid    usertype  \\\n0             40.755136             -73.986580   18015  Subscriber   \n1             40.760301             -73.998842   35905  Subscriber   \n2             40.681860             -73.959432   33350  Subscriber   \n3             40.801307             -73.939817   43790  Subscriber   \n4             40.703172             -73.940636   39912  Subscriber   \n\n   birth year  gender    startday  age  \n0        1993    Male  2020-05-01   27  \n1        1989    Male  2020-05-01   31  \n2        1938  Female  2020-05-01   82  \n3        1996    Male  2020-05-01   24  \n4        1993    Male  2020-05-01   27  ",
      "text/html": "<div>\n<style scoped>\n    .dataframe tbody tr th:only-of-type {\n        vertical-align: middle;\n    }\n\n    .dataframe tbody tr th {\n        vertical-align: top;\n    }\n\n    .dataframe thead th {\n        text-align: right;\n    }\n</style>\n<table border=\"1\" class=\"dataframe\">\n  <thead>\n    <tr style=\"text-align: right;\">\n      <th></th>\n      <th>tripduration</th>\n      <th>starttime</th>\n      <th>stoptime</th>\n      <th>start station id</th>\n      <th>start station name</th>\n      <th>start station latitude</th>\n      <th>start station longitude</th>\n      <th>end station id</th>\n      <th>end station name</th>\n      <th>end station latitude</th>\n      <th>end station longitude</th>\n      <th>bikeid</th>\n      <th>usertype</th>\n      <th>birth year</th>\n      <th>gender</th>\n      <th>startday</th>\n      <th>age</th>\n    </tr>\n  </thead>\n  <tbody>\n    <tr>\n      <td>0</td>\n      <td>336</td>\n      <td>00:01:06</td>\n      <td>2020-05-01 00:06:42.9560</td>\n      <td>2017</td>\n      <td>E 43 St &amp; 2 Ave</td>\n      <td>40.750224</td>\n      <td>-73.971214</td>\n      <td>465</td>\n      <td>Broadway &amp; W 41 St</td>\n      <td>40.755136</td>\n      <td>-73.986580</td>\n      <td>18015</td>\n      <td>Subscriber</td>\n      <td>1993</td>\n      <td>Male</td>\n      <td>2020-05-01</td>\n      <td>27</td>\n    </tr>\n    <tr>\n      <td>1</td>\n      <td>853</td>\n      <td>00:01:08</td>\n      <td>2020-05-01 00:15:21.2150</td>\n      <td>3376</td>\n      <td>E 65 St &amp; 2 Ave</td>\n      <td>40.764719</td>\n      <td>-73.962221</td>\n      <td>478</td>\n      <td>11 Ave &amp; W 41 St</td>\n      <td>40.760301</td>\n      <td>-73.998842</td>\n      <td>35905</td>\n      <td>Subscriber</td>\n      <td>1989</td>\n      <td>Male</td>\n      <td>2020-05-01</td>\n      <td>31</td>\n    </tr>\n    <tr>\n      <td>2</td>\n      <td>78</td>\n      <td>00:01:08</td>\n      <td>2020-05-01 00:02:27.0490</td>\n      <td>396</td>\n      <td>Lefferts Pl &amp; Franklin Ave</td>\n      <td>40.680342</td>\n      <td>-73.955769</td>\n      <td>3789</td>\n      <td>Fulton St &amp; Irving Pl</td>\n      <td>40.681860</td>\n      <td>-73.959432</td>\n      <td>33350</td>\n      <td>Subscriber</td>\n      <td>1938</td>\n      <td>Female</td>\n      <td>2020-05-01</td>\n      <td>82</td>\n    </tr>\n    <tr>\n      <td>3</td>\n      <td>1185</td>\n      <td>00:02:22</td>\n      <td>2020-05-01 00:22:08.1220</td>\n      <td>3630</td>\n      <td>Frederick Douglass Blvd &amp; W 115 St</td>\n      <td>40.803865</td>\n      <td>-73.955931</td>\n      <td>3506</td>\n      <td>Lexington Ave &amp; E 120 St</td>\n      <td>40.801307</td>\n      <td>-73.939817</td>\n      <td>43790</td>\n      <td>Subscriber</td>\n      <td>1996</td>\n      <td>Male</td>\n      <td>2020-05-01</td>\n      <td>24</td>\n    </tr>\n    <tr>\n      <td>4</td>\n      <td>272</td>\n      <td>00:02:32</td>\n      <td>2020-05-01 00:07:05.0880</td>\n      <td>3776</td>\n      <td>Central Ave &amp; Starr Street</td>\n      <td>40.700003</td>\n      <td>-73.928340</td>\n      <td>3068</td>\n      <td>Humboldt St &amp; Varet St</td>\n      <td>40.703172</td>\n      <td>-73.940636</td>\n      <td>39912</td>\n      <td>Subscriber</td>\n      <td>1993</td>\n      <td>Male</td>\n      <td>2020-05-01</td>\n      <td>27</td>\n    </tr>\n  </tbody>\n</table>\n</div>"
     },
     "metadata": {},
     "execution_count": 57
    }
   ],
   "source": [
    "# preview before output to csv file\n",
    "final_df.head(5)"
   ]
  },
  {
   "cell_type": "code",
   "execution_count": 62,
   "metadata": {},
   "outputs": [],
   "source": [
    "# found a phenomenon of bad age or birth date input incorrectly\n",
    "bad_age_df = final_df.loc[final_df[\"age\"]>100]\n",
    "bad_age_df.head(5)\n",
    "bad_age_df.to_csv(\"data/bad_citibike-tripdata.csv\", encoding='utf-8', index=False)\n",
    "\n",
    "# drop birth year before and up to 1919\n",
    "final_df = final_df.loc[final_df[\"birth year\"]>1919]"
   ]
  },
  {
   "cell_type": "code",
   "execution_count": 63,
   "metadata": {},
   "outputs": [],
   "source": [
    "# output final dataframe to csv\n",
    "final_df.to_csv(\"data/citibike-tripdata.csv\", encoding='utf-8', index=False)"
   ]
  },
  {
   "cell_type": "code",
   "execution_count": 64,
   "metadata": {},
   "outputs": [
    {
     "output_type": "execute_result",
     "data": {
      "text/plain": "Empty DataFrame\nColumns: [tripduration, starttime, stoptime, start station id, start station name, start station latitude, start station longitude, end station id, end station name, end station latitude, end station longitude, bikeid, usertype, birth year, gender, startday, age]\nIndex: []",
      "text/html": "<div>\n<style scoped>\n    .dataframe tbody tr th:only-of-type {\n        vertical-align: middle;\n    }\n\n    .dataframe tbody tr th {\n        vertical-align: top;\n    }\n\n    .dataframe thead th {\n        text-align: right;\n    }\n</style>\n<table border=\"1\" class=\"dataframe\">\n  <thead>\n    <tr style=\"text-align: right;\">\n      <th></th>\n      <th>tripduration</th>\n      <th>starttime</th>\n      <th>stoptime</th>\n      <th>start station id</th>\n      <th>start station name</th>\n      <th>start station latitude</th>\n      <th>start station longitude</th>\n      <th>end station id</th>\n      <th>end station name</th>\n      <th>end station latitude</th>\n      <th>end station longitude</th>\n      <th>bikeid</th>\n      <th>usertype</th>\n      <th>birth year</th>\n      <th>gender</th>\n      <th>startday</th>\n      <th>age</th>\n    </tr>\n  </thead>\n  <tbody>\n  </tbody>\n</table>\n</div>"
     },
     "metadata": {},
     "execution_count": 64
    }
   ],
   "source": [
    "# check no ages over 100\n",
    "final_df.loc[final_df[\"age\"]>100]"
   ]
  }
 ],
 "metadata": {
  "kernelspec": {
   "display_name": "Python 3",
   "language": "python",
   "name": "python3"
  },
  "language_info": {
   "codemirror_mode": {
    "name": "ipython",
    "version": 3
   },
   "file_extension": ".py",
   "mimetype": "text/x-python",
   "name": "python",
   "nbconvert_exporter": "python",
   "pygments_lexer": "ipython3",
   "version": "3.7.3"
  }
 },
 "nbformat": 4,
 "nbformat_minor": 2
}